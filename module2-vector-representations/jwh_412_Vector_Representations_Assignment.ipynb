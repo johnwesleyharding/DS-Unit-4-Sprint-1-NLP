{
 "cells": [
  {
   "cell_type": "markdown",
   "metadata": {},
   "source": [
    "<img align=\"left\" src=\"https://lever-client-logos.s3.amazonaws.com/864372b1-534c-480e-acd5-9711f850815c-1524247202159.png\" width=200>\n",
    "<br></br>\n",
    "\n",
    "# Vector Representations\n",
    "## *Data Science Unit 4 Sprint 2 Assignment 2*"
   ]
  },
  {
   "cell_type": "code",
   "execution_count": 1,
   "metadata": {
    "colab": {
     "base_uri": "https://localhost:8080/",
     "height": 159
    },
    "colab_type": "code",
    "id": "hyj-f9FDcVFp",
    "outputId": "5dd045fe-6e4c-458c-e2fc-253c3da9c805"
   },
   "outputs": [],
   "source": [
    "import re\n",
    "import string\n",
    "\n",
    "from sklearn.feature_extraction.text import CountVectorizer, TfidfVectorizer\n",
    "import matplotlib.pyplot as plt\n",
    "import pandas as pd\n",
    "import numpy as np\n",
    "import spacy\n",
    "from spacy.tokenizer import Tokenizer\n",
    "\n",
    "nlp = spacy.load(\"en_core_web_lg\")\n",
    "tokenizer = Tokenizer(nlp.vocab)"
   ]
  },
  {
   "cell_type": "markdown",
   "metadata": {
    "colab_type": "text",
    "id": "M7bcmqfGXrFG"
   },
   "source": [
    "## 1) *Clean:* Job Listings from indeed.com that contain the title \"Data Scientist\" \n",
    "\n",
    "You have `job_listings.csv` in the data folder for this module. The text data in the description column is still messy - full of html tags. Use the [BeautifulSoup](https://www.crummy.com/software/BeautifulSoup/bs4/doc/) library to clean up this column. You will need to read thru the documentation to accomplish this task. \n",
    "\n",
    "`Tip:` You will need to install the `bs4` library inside your conda environment. "
   ]
  },
  {
   "cell_type": "code",
   "execution_count": 2,
   "metadata": {
    "colab": {},
    "colab_type": "code",
    "id": "KcYlc1URXhlC"
   },
   "outputs": [],
   "source": [
    "from bs4 import BeautifulSoup\n",
    "import requests\n",
    "\n",
    "##### Your Code Here #####\n",
    "df = pd.read_csv('./data/job_listings.csv')\n",
    "\n",
    "# raise Exception(\"\\nThis task is not complete. \\nReplace this line with your code for the task.\")"
   ]
  },
  {
   "cell_type": "markdown",
   "metadata": {
    "colab_type": "text",
    "id": "5C4xFZNtX1m2"
   },
   "source": [
    "## 2) Use Spacy to tokenize the listings "
   ]
  },
  {
   "cell_type": "code",
   "execution_count": 3,
   "metadata": {},
   "outputs": [
    {
     "data": {
      "text/html": [
       "<div>\n",
       "<style scoped>\n",
       "    .dataframe tbody tr th:only-of-type {\n",
       "        vertical-align: middle;\n",
       "    }\n",
       "\n",
       "    .dataframe tbody tr th {\n",
       "        vertical-align: top;\n",
       "    }\n",
       "\n",
       "    .dataframe thead th {\n",
       "        text-align: right;\n",
       "    }\n",
       "</style>\n",
       "<table border=\"1\" class=\"dataframe\">\n",
       "  <thead>\n",
       "    <tr style=\"text-align: right;\">\n",
       "      <th></th>\n",
       "      <th>Unnamed: 0</th>\n",
       "      <th>description</th>\n",
       "      <th>title</th>\n",
       "    </tr>\n",
       "  </thead>\n",
       "  <tbody>\n",
       "    <tr>\n",
       "      <th>0</th>\n",
       "      <td>0</td>\n",
       "      <td>b\"&lt;div&gt;&lt;div&gt;Job Requirements:&lt;/div&gt;&lt;ul&gt;&lt;li&gt;&lt;p&gt;...</td>\n",
       "      <td>Data scientist</td>\n",
       "    </tr>\n",
       "    <tr>\n",
       "      <th>1</th>\n",
       "      <td>1</td>\n",
       "      <td>b'&lt;div&gt;Job Description&lt;br/&gt;\\n&lt;br/&gt;\\n&lt;p&gt;As a Da...</td>\n",
       "      <td>Data Scientist I</td>\n",
       "    </tr>\n",
       "    <tr>\n",
       "      <th>2</th>\n",
       "      <td>2</td>\n",
       "      <td>b'&lt;div&gt;&lt;p&gt;As a Data Scientist you will be work...</td>\n",
       "      <td>Data Scientist - Entry Level</td>\n",
       "    </tr>\n",
       "    <tr>\n",
       "      <th>3</th>\n",
       "      <td>3</td>\n",
       "      <td>b'&lt;div class=\"jobsearch-JobMetadataHeader icl-...</td>\n",
       "      <td>Data Scientist</td>\n",
       "    </tr>\n",
       "    <tr>\n",
       "      <th>4</th>\n",
       "      <td>4</td>\n",
       "      <td>b'&lt;ul&gt;&lt;li&gt;Location: USA \\xe2\\x80\\x93 multiple ...</td>\n",
       "      <td>Data Scientist</td>\n",
       "    </tr>\n",
       "  </tbody>\n",
       "</table>\n",
       "</div>"
      ],
      "text/plain": [
       "   Unnamed: 0                                        description  \\\n",
       "0           0  b\"<div><div>Job Requirements:</div><ul><li><p>...   \n",
       "1           1  b'<div>Job Description<br/>\\n<br/>\\n<p>As a Da...   \n",
       "2           2  b'<div><p>As a Data Scientist you will be work...   \n",
       "3           3  b'<div class=\"jobsearch-JobMetadataHeader icl-...   \n",
       "4           4  b'<ul><li>Location: USA \\xe2\\x80\\x93 multiple ...   \n",
       "\n",
       "                          title  \n",
       "0               Data scientist   \n",
       "1              Data Scientist I  \n",
       "2  Data Scientist - Entry Level  \n",
       "3                Data Scientist  \n",
       "4                Data Scientist  "
      ]
     },
     "execution_count": 3,
     "metadata": {},
     "output_type": "execute_result"
    }
   ],
   "source": [
    "df.head()"
   ]
  },
  {
   "cell_type": "code",
   "execution_count": 4,
   "metadata": {},
   "outputs": [
    {
     "data": {
      "text/plain": [
       "(426, 3)"
      ]
     },
     "execution_count": 4,
     "metadata": {},
     "output_type": "execute_result"
    }
   ],
   "source": [
    "df.shape"
   ]
  },
  {
   "cell_type": "code",
   "execution_count": 5,
   "metadata": {},
   "outputs": [
    {
     "data": {
      "text/plain": [
       "str"
      ]
     },
     "execution_count": 5,
     "metadata": {},
     "output_type": "execute_result"
    }
   ],
   "source": [
    "type(df['description'][0])"
   ]
  },
  {
   "cell_type": "code",
   "execution_count": 6,
   "metadata": {},
   "outputs": [],
   "source": [
    "def soupify(html):\n",
    "    return BeautifulSoup(html, 'html.parser').text\n",
    "\n",
    "df['description'] = df['description'].apply(soupify)"
   ]
  },
  {
   "cell_type": "code",
   "execution_count": 7,
   "metadata": {},
   "outputs": [
    {
     "data": {
      "text/plain": [
       "str"
      ]
     },
     "execution_count": 7,
     "metadata": {},
     "output_type": "execute_result"
    }
   ],
   "source": [
    "type(df['description'][0])"
   ]
  },
  {
   "cell_type": "code",
   "execution_count": 10,
   "metadata": {},
   "outputs": [
    {
     "name": "stdout",
     "output_type": "stream",
     "text": [
      "b\"Job Requirements:\\nConceptual understanding in Machine Learning models like Nai\\xc2\\xa8ve Bayes, K-Means, SVM, Apriori, Linear/ Logistic Regression, Neural, Random Forests, Decision Trees, K-NN along with hands-on experience in at least 2 of them\\nIntermediate to expert level coding skills in Python/R. (Ability to write functions, clean and efficient data manipulation are mandatory for this role)\\nExposure to packages like NumPy, SciPy, Pandas, Matplotlib etc in Python or GGPlot2, dplyr, tidyR in R\\nAbility to communicate Model findings to both Technical and Non-Technical stake holders\\nHands on experience in SQL/Hive or similar programming language\\nMust show past work via GitHub, Kaggle or any other published article\\nMaster's degree in Statistics/Mathematics/Computer Science or any other quant specific field.\\nApply Now\" \n",
      "\n",
      "b'Job Description\\n\\nAs a Data Scientist 1, you will help us build machine learning models, data pipelines, and micro-services to help our clients navigate their healthcare journey. You will do so by empowering and improving the next generation of Accolade Applications and user experiences.\\nA day in the life\\xe2\\x80\\xa6\\nWork with a small agile team to design and develop mobile applications in an iterative fashion.\\nWork with a tight-knit group of development team members in Seattle.\\nContribute to best practices and help guide the future of our applications.\\nOperates effectively as a collaborative member of the development team.\\nOperates effectively as an individual for quick turnaround of enhancements and fixes.\\nResponsible for meeting expectations and deliverables on time with high quality.\\nDrive and implement new features within our mobile applications.\\nPerform thorough manual testing and writing test cases that cover all areas.\\nIdentify new development tools/approaches that will increase code quality, efficiency, and best practices.\\nDevelop and champion the the development processes, coding style guidelines, and architectural designs necessary to innovate and maintain great product quality.\\nEffectively turns design documents and graphics into performant, usable UI.\\nDemonstrates creative, technical, and analytical skills.\\nDemonstrates ability to communicate effectively in both technical and business environments\\n\\nQualifications\\n\\nWhat we are looking for\\xe2\\x80\\xa6\\nMaster\\xe2\\x80\\x99s Degree in Computer Science, Math, or related field.\\nComputer Science fundamentals, as illustrated through algorithm design, problem solving, and complexity analysis.\\nMust have 1+ year real-world experience developing and deploying micro-services or data pipelines\\nMust have a fundamental understanding of key machine learning concepts, such as accuracy measures, cross-validation, and open source machine learning libraries\\nFluent in Python and SQL\\nProficient with writing unit/functional tests and familiar with automation frameworks\\nExperience with cloud infrastructure, such as AWS or Azure, is a plus.\\nExperience with distributed data pipelines, such as a Spark, is a plus.\\nStrong written and oral communication skills.\\nDesire and willingness to work in an Agile, collaborative, innovative, flexible, and team-oriented environment\\nHands-on, detail-oriented, methodical & inquisitive\\nA motivated self-starter with a solid level of experience that quickly grasps complex challenges\\nA skillful communicator with experience working with technical management teams\\n A service oriented person who thinks \"Customer First\"\\nFast fail entrepreneurial spirit\\nThrives in a fast-paced environment where continuous improvement is the norm and the bar for quality is extremely high\\nExcited by the challenges of working in a product team undergoing rapid, international growth\\nAdditional Information\\n\\nWhat is important to us\\nCreating an enduring company that is hyper-focused on our culture and making a meaningful impact in the lives of our employees, members and customers. The secret to our success is:\\nWe find joy and purpose in serving others\\nMaking a difference in our members\\xe2\\x80\\x99 and customers\\xe2\\x80\\x99 lives is what we do. Even when it\\xe2\\x80\\x99s hard, we do the right thing for the right reasons.\\nWe are strong individually and together, we\\xe2\\x80\\x99re powerful\\nTrusting in our colleagues and embracing their different backgrounds and experiences enable us to solve tough problems in creative ways, having fun along the way.\\nWe roll up our sleeves and get stuff done\\nResults motivate us. And we aren\\'t afraid of the hard work or tough decisions needed to get us there.\\nWe\\xe2\\x80\\x99re boldly and relentlessly reinventing healthcare\\nWe\\'re curious and act big - not afraid to knock down barriers or take calculated risks to change the world, one person at a time.\\nAll your information will be kept confidential according to EEO guidelines.' \n",
      "\n",
      "b'As a Data Scientist you will be working on consulting side of our business. You will be responsible for analyzing large, complex datasets and identify meaningful patterns that lead to actionable recommendations. You will be performing thorough testing and validation of models, and support various aspects of the business with data analytics.\\nAbility to do statistical modeling, build predictive models and leverage machine learning algorithms.\\nThis position will combine the typical Data Scientist math and analytical skills, with research, advanced business, communication, and presentation skills.\\nPrimary job location is in Sacramento, but work-from-home option is available.\\n\\nQualifications\\nBachelors, MS or PhD in a relevant field (Computer Science, Engineering, Statistics, Physics, Applied Math)\\nExperience in R and/or Python is preferred' \n",
      "\n",
      "b'$4,969 - $6,756 a monthContractUnder the general supervision of Professors Dana Mukamel and Kai Zheng, the incumbent will join the CalMHSA Mental Health Tech Suite Innovation (INN) Evaluation Team. This large, statewide multi-year study will evaluate the effectiveness of two new and innovative applications offered to people with mental health conditions, which include opportunities for online chatting between users and online listeners Responsibilities of the incumbent will include managing and analyzing text data created by users of the two mental health applications as part of the research and evaluation objectives of the team. The incumbent will collaborate with faculty and other team researchers, and will be expected to create under supervision and direction variables describing the usage of the apps, the interactions between users, and the effectiveness of the apps. The incumbent will also be expected to interact with the vendors of the apps around data issues.\\n\\nThe University of California, Irvine is an Equal Opportunity/Affirmative Action Employer advancing inclusive excellence. All qualified applicants will receive consideration for employment without regard to race, color, religion, sex, sexual orientation, gender identity, national origin, disability, age, protected veteran status, or other protected categories covered by the UC nondiscrimination policy.\\n\\nSalary: Monthly $4,968.58 - $6,755.83\\nTotal Hours: 8-5, M-F\\nContract Position.\\nFinal candidate subject to background check.\\nAs a federal contractor, UC Irvine is required to use E-Verify to confirm the work status of individuals assigned to perform substantial work under certain federal contracts/subcontracts.\\n\\nPlease attach your resume.' \n",
      "\n",
      "b'Location: USA \\xe2\\x80\\x93 multiple locations\\n2+ years of Analytics experience\\nUnderstand business requirements and technical requirements\\nCan handle data extraction, preparation and transformation\\nCreate and implement data models' \n",
      "\n"
     ]
    }
   ],
   "source": [
    "for i in range(5):\n",
    "    print(df['description'][i], '\\n')"
   ]
  },
  {
   "cell_type": "code",
   "execution_count": 11,
   "metadata": {
    "colab": {},
    "colab_type": "code",
    "id": "dhUHuMr-X-II"
   },
   "outputs": [],
   "source": [
    "##### Your Code Here #####    \n",
    "tokens = []\n",
    "\n",
    "for doc in tokenizer.pipe(df['description'], batch_size=500):\n",
    "\n",
    "    doc_tokens = []\n",
    "\n",
    "    for token in doc: \n",
    "        if token.text.lower() not in nlp.Defaults.stop_words: # .union(['<div>', '</div>'])\n",
    "            doc_tokens.append(token.text.lower())\n",
    "\n",
    "    tokens.append(doc_tokens)\n",
    "\n",
    "df['tokens'] = tokens\n",
    "\n",
    "# return dfraise Exception(\"\\nThis task is not complete. \\nReplace this line with your code for the task.\""
   ]
  },
  {
   "cell_type": "code",
   "execution_count": 12,
   "metadata": {},
   "outputs": [
    {
     "name": "stdout",
     "output_type": "stream",
     "text": [
      "['b\"job', 'requirements:\\\\nconceptual', 'understanding', 'machine', 'learning', 'models', 'like', 'nai\\\\xc2\\\\xa8ve', 'bayes,', 'k-means,', 'svm,', 'apriori,', 'linear/', 'logistic', 'regression,', 'neural,', 'random', 'forests,', 'decision', 'trees,', 'k-nn', 'hands-on', 'experience', '2', 'them\\\\nintermediate', 'expert', 'level', 'coding', 'skills', 'python/r.', '(ability', 'write', 'functions,', 'clean', 'efficient', 'data', 'manipulation', 'mandatory', 'role)\\\\nexposure', 'packages', 'like', 'numpy,', 'scipy,', 'pandas,', 'matplotlib', 'etc', 'python', 'ggplot2,', 'dplyr,', 'tidyr', 'r\\\\nability', 'communicate', 'model', 'findings', 'technical', 'non-technical', 'stake', 'holders\\\\nhands', 'experience', 'sql/hive', 'similar', 'programming', 'language\\\\nmust', 'past', 'work', 'github,', 'kaggle', 'published', \"article\\\\nmaster's\", 'degree', 'statistics/mathematics/computer', 'science', 'quant', 'specific', 'field.\\\\napply', 'now\"'] \n",
      "\n",
      "[\"b'job\", 'description\\\\n\\\\nas', 'data', 'scientist', '1,', 'help', 'build', 'machine', 'learning', 'models,', 'data', 'pipelines,', 'micro-services', 'help', 'clients', 'navigate', 'healthcare', 'journey.', 'empowering', 'improving', 'generation', 'accolade', 'applications', 'user', 'experiences.\\\\na', 'day', 'life\\\\xe2\\\\x80\\\\xa6\\\\nwork', 'small', 'agile', 'team', 'design', 'develop', 'mobile', 'applications', 'iterative', 'fashion.\\\\nwork', 'tight-knit', 'group', 'development', 'team', 'members', 'seattle.\\\\ncontribute', 'best', 'practices', 'help', 'guide', 'future', 'applications.\\\\noperates', 'effectively', 'collaborative', 'member', 'development', 'team.\\\\noperates', 'effectively', 'individual', 'quick', 'turnaround', 'enhancements', 'fixes.\\\\nresponsible', 'meeting', 'expectations', 'deliverables', 'time', 'high', 'quality.\\\\ndrive', 'implement', 'new', 'features', 'mobile', 'applications.\\\\nperform', 'thorough', 'manual', 'testing', 'writing', 'test', 'cases', 'cover', 'areas.\\\\nidentify', 'new', 'development', 'tools/approaches', 'increase', 'code', 'quality,', 'efficiency,', 'best', 'practices.\\\\ndevelop', 'champion', 'development', 'processes,', 'coding', 'style', 'guidelines,', 'architectural', 'designs', 'necessary', 'innovate', 'maintain', 'great', 'product', 'quality.\\\\neffectively', 'turns', 'design', 'documents', 'graphics', 'performant,', 'usable', 'ui.\\\\ndemonstrates', 'creative,', 'technical,', 'analytical', 'skills.\\\\ndemonstrates', 'ability', 'communicate', 'effectively', 'technical', 'business', 'environments\\\\n\\\\nqualifications\\\\n\\\\nwhat', 'looking', 'for\\\\xe2\\\\x80\\\\xa6\\\\nmaster\\\\xe2\\\\x80\\\\x99s', 'degree', 'computer', 'science,', 'math,', 'related', 'field.\\\\ncomputer', 'science', 'fundamentals,', 'illustrated', 'algorithm', 'design,', 'problem', 'solving,', 'complexity', 'analysis.\\\\nmust', '1+', 'year', 'real-world', 'experience', 'developing', 'deploying', 'micro-services', 'data', 'pipelines\\\\nmust', 'fundamental', 'understanding', 'key', 'machine', 'learning', 'concepts,', 'accuracy', 'measures,', 'cross-validation,', 'open', 'source', 'machine', 'learning', 'libraries\\\\nfluent', 'python', 'sql\\\\nproficient', 'writing', 'unit/functional', 'tests', 'familiar', 'automation', 'frameworks\\\\nexperience', 'cloud', 'infrastructure,', 'aws', 'azure,', 'plus.\\\\nexperience', 'distributed', 'data', 'pipelines,', 'spark,', 'plus.\\\\nstrong', 'written', 'oral', 'communication', 'skills.\\\\ndesire', 'willingness', 'work', 'agile,', 'collaborative,', 'innovative,', 'flexible,', 'team-oriented', 'environment\\\\nhands-on,', 'detail-oriented,', 'methodical', '&', 'inquisitive\\\\na', 'motivated', 'self-starter', 'solid', 'level', 'experience', 'quickly', 'grasps', 'complex', 'challenges\\\\na', 'skillful', 'communicator', 'experience', 'working', 'technical', 'management', 'teams\\\\n', 'service', 'oriented', 'person', 'thinks', '\"customer', 'first\"\\\\nfast', 'fail', 'entrepreneurial', 'spirit\\\\nthrives', 'fast-paced', 'environment', 'continuous', 'improvement', 'norm', 'bar', 'quality', 'extremely', 'high\\\\nexcited', 'challenges', 'working', 'product', 'team', 'undergoing', 'rapid,', 'international', 'growth\\\\nadditional', 'information\\\\n\\\\nwhat', 'important', 'us\\\\ncreating', 'enduring', 'company', 'hyper-focused', 'culture', 'making', 'meaningful', 'impact', 'lives', 'employees,', 'members', 'customers.', 'secret', 'success', 'is:\\\\nwe', 'find', 'joy', 'purpose', 'serving', 'others\\\\nmaking', 'difference', 'members\\\\xe2\\\\x80\\\\x99', 'customers\\\\xe2\\\\x80\\\\x99', 'lives', 'do.', 'it\\\\xe2\\\\x80\\\\x99s', 'hard,', 'right', 'thing', 'right', 'reasons.\\\\nwe', 'strong', 'individually', 'together,', 'we\\\\xe2\\\\x80\\\\x99re', 'powerful\\\\ntrusting', 'colleagues', 'embracing', 'different', 'backgrounds', 'experiences', 'enable', 'solve', 'tough', 'problems', 'creative', 'ways,', 'having', 'fun', 'way.\\\\nwe', 'roll', 'sleeves', 'stuff', 'done\\\\nresults', 'motivate', 'us.', \"aren\\\\'t\", 'afraid', 'hard', 'work', 'tough', 'decisions', 'needed', 'there.\\\\nwe\\\\xe2\\\\x80\\\\x99re', 'boldly', 'relentlessly', 'reinventing', \"healthcare\\\\nwe\\\\'re\", 'curious', 'act', 'big', '-', 'afraid', 'knock', 'barriers', 'calculated', 'risks', 'change', 'world,', 'person', 'time.\\\\nall', 'information', 'kept', 'confidential', 'according', 'eeo', \"guidelines.'\"] \n",
      "\n",
      "[\"b'as\", 'data', 'scientist', 'working', 'consulting', 'business.', 'responsible', 'analyzing', 'large,', 'complex', 'datasets', 'identify', 'meaningful', 'patterns', 'lead', 'actionable', 'recommendations.', 'performing', 'thorough', 'testing', 'validation', 'models,', 'support', 'aspects', 'business', 'data', 'analytics.\\\\nability', 'statistical', 'modeling,', 'build', 'predictive', 'models', 'leverage', 'machine', 'learning', 'algorithms.\\\\nthis', 'position', 'combine', 'typical', 'data', 'scientist', 'math', 'analytical', 'skills,', 'research,', 'advanced', 'business,', 'communication,', 'presentation', 'skills.\\\\nprimary', 'job', 'location', 'sacramento,', 'work-from-home', 'option', 'available.\\\\n\\\\nqualifications\\\\nbachelors,', 'ms', 'phd', 'relevant', 'field', '(computer', 'science,', 'engineering,', 'statistics,', 'physics,', 'applied', 'math)\\\\nexperience', 'r', 'and/or', 'python', \"preferred'\"] \n",
      "\n",
      "[\"b'$4,969\", '-', '$6,756', 'monthcontractunder', 'general', 'supervision', 'professors', 'dana', 'mukamel', 'kai', 'zheng,', 'incumbent', 'join', 'calmhsa', 'mental', 'health', 'tech', 'suite', 'innovation', '(inn)', 'evaluation', 'team.', 'large,', 'statewide', 'multi-year', 'study', 'evaluate', 'effectiveness', 'new', 'innovative', 'applications', 'offered', 'people', 'mental', 'health', 'conditions,', 'include', 'opportunities', 'online', 'chatting', 'users', 'online', 'listeners', 'responsibilities', 'incumbent', 'include', 'managing', 'analyzing', 'text', 'data', 'created', 'users', 'mental', 'health', 'applications', 'research', 'evaluation', 'objectives', 'team.', 'incumbent', 'collaborate', 'faculty', 'team', 'researchers,', 'expected', 'create', 'supervision', 'direction', 'variables', 'describing', 'usage', 'apps,', 'interactions', 'users,', 'effectiveness', 'apps.', 'incumbent', 'expected', 'interact', 'vendors', 'apps', 'data', 'issues.\\\\n\\\\nthe', 'university', 'california,', 'irvine', 'equal', 'opportunity/affirmative', 'action', 'employer', 'advancing', 'inclusive', 'excellence.', 'qualified', 'applicants', 'receive', 'consideration', 'employment', 'regard', 'race,', 'color,', 'religion,', 'sex,', 'sexual', 'orientation,', 'gender', 'identity,', 'national', 'origin,', 'disability,', 'age,', 'protected', 'veteran', 'status,', 'protected', 'categories', 'covered', 'uc', 'nondiscrimination', 'policy.\\\\n\\\\nsalary:', 'monthly', '$4,968.58', '-', '$6,755.83\\\\ntotal', 'hours:', '8-5,', 'm-f\\\\ncontract', 'position.\\\\nfinal', 'candidate', 'subject', 'background', 'check.\\\\nas', 'federal', 'contractor,', 'uc', 'irvine', 'required', 'use', 'e-verify', 'confirm', 'work', 'status', 'individuals', 'assigned', 'perform', 'substantial', 'work', 'certain', 'federal', 'contracts/subcontracts.\\\\n\\\\nplease', 'attach', \"resume.'\"] \n",
      "\n",
      "[\"b'location:\", 'usa', '\\\\xe2\\\\x80\\\\x93', 'multiple', 'locations\\\\n2+', 'years', 'analytics', 'experience\\\\nunderstand', 'business', 'requirements', 'technical', 'requirements\\\\ncan', 'handle', 'data', 'extraction,', 'preparation', 'transformation\\\\ncreate', 'implement', 'data', \"models'\"] \n",
      "\n"
     ]
    }
   ],
   "source": [
    "for i in range(5):\n",
    "    print(df['tokens'][i], '\\n')"
   ]
  },
  {
   "cell_type": "markdown",
   "metadata": {
    "colab_type": "text",
    "id": "-lgCZNL_YycP"
   },
   "source": [
    "## 3) Use Scikit-Learn's CountVectorizer to get word counts for each listing."
   ]
  },
  {
   "cell_type": "code",
   "execution_count": null,
   "metadata": {
    "colab": {},
    "colab_type": "code",
    "id": "X2PZ8Pj_YxcF"
   },
   "outputs": [],
   "source": [
    "##### Your Code Here #####\n",
    "raise Exception(\"\\nThis task is not complete. \\nReplace this line with your code for the task.\""
   ]
  },
  {
   "cell_type": "markdown",
   "metadata": {
    "colab_type": "text",
    "id": "Zo1iH_UeY7_n"
   },
   "source": [
    "## 4) Visualize the most common word counts"
   ]
  },
  {
   "cell_type": "code",
   "execution_count": null,
   "metadata": {
    "colab": {},
    "colab_type": "code",
    "id": "M5LB00uyZKV5"
   },
   "outputs": [],
   "source": [
    "##### Your Code Here #####\n",
    "raise Exception(\"\\nThis task is not complete. \\nReplace this line with your code for the task.\""
   ]
  },
  {
   "cell_type": "markdown",
   "metadata": {
    "colab_type": "text",
    "id": "bwFsTqrVZMYi"
   },
   "source": [
    "## 5) Use Scikit-Learn's tfidfVectorizer to get a TF-IDF feature matrix"
   ]
  },
  {
   "cell_type": "code",
   "execution_count": null,
   "metadata": {
    "colab": {},
    "colab_type": "code",
    "id": "-gx2gZCbl5Np"
   },
   "outputs": [],
   "source": [
    "##### Your Code Here #####\n",
    "raise Exception(\"\\nThis task is not complete. \\nReplace this line with your code for the task.\""
   ]
  },
  {
   "cell_type": "markdown",
   "metadata": {},
   "source": [
    "## 6) Create a NearestNeighbor Model. Write the description of your ideal datascience job and query your job listings. "
   ]
  },
  {
   "cell_type": "code",
   "execution_count": null,
   "metadata": {
    "collapsed": false,
    "inputHidden": false,
    "jupyter": {
     "outputs_hidden": false
    },
    "outputHidden": false
   },
   "outputs": [],
   "source": [
    "##### Your Code Here #####\n",
    "raise Exception(\"\\nThis task is not complete. \\nReplace this line with your code for the task.\""
   ]
  },
  {
   "cell_type": "markdown",
   "metadata": {
    "colab_type": "text",
    "id": "FiDfTWceoRkH"
   },
   "source": [
    "## Stretch Goals\n",
    "\n",
    " - Try different visualizations for words and frequencies - what story do you want to tell with the data?\n",
    " - Scrape Job Listings for the job title \"Data Analyst\". How do these differ from Data Scientist Job Listings\n",
    " - Try and identify requirements for experience specific technologies that are asked for in the job listings. How are those distributed among the job listings?\n",
    " - Use a clustering algorithm to cluster documents by their most important terms. Do the clusters reveal any common themes?\n",
    "  - **Hint:** K-means might not be the best algorithm for this. Do a little bit of research to see what might be good for this. Also, remember that algorithms that depend on Euclidean distance break down with high dimensional data.\n",
    " - Create a labeled dataset - which jobs will you apply for? Train a model to select the jobs you are most likely to apply for. :) "
   ]
  }
 ],
 "metadata": {
  "colab": {
   "collapsed_sections": [],
   "name": "LS_DS_422_BOW_Assignment.ipynb",
   "provenance": [],
   "version": "0.3.2"
  },
  "kernel_info": {
   "name": "python3"
  },
  "kernelspec": {
   "display_name": "U4-S1-NLP (Python3)",
   "language": "python",
   "name": "u4-s1-nlp"
  },
  "language_info": {
   "codemirror_mode": {
    "name": "ipython",
    "version": 3
   },
   "file_extension": ".py",
   "mimetype": "text/x-python",
   "name": "python",
   "nbconvert_exporter": "python",
   "pygments_lexer": "ipython3",
   "version": "3.7.0"
  },
  "nteract": {
   "version": "0.14.3"
  }
 },
 "nbformat": 4,
 "nbformat_minor": 4
}
